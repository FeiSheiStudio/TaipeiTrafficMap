{
 "cells": [
  {
   "cell_type": "code",
   "id": "initial_id",
   "metadata": {
    "collapsed": true,
    "ExecuteTime": {
     "end_time": "2025-09-05T13:22:29.046922Z",
     "start_time": "2025-09-05T13:22:27.981313Z"
    }
   },
   "source": "from traffic_data import Import_Data",
   "outputs": [],
   "execution_count": 1
  },
  {
   "metadata": {
    "ExecuteTime": {
     "end_time": "2025-09-05T13:22:43.076167Z",
     "start_time": "2025-09-05T13:22:41.538151Z"
    }
   },
   "cell_type": "code",
   "source": [
    "a = Import_Data()\n",
    "a.save_combined()\n"
   ],
   "id": "d2a733caf53c892",
   "outputs": [],
   "execution_count": 4
  },
  {
   "metadata": {
    "ExecuteTime": {
     "end_time": "2025-09-05T13:18:50.393225Z",
     "start_time": "2025-09-05T13:18:50.389225Z"
    }
   },
   "cell_type": "code",
   "source": "",
   "id": "46061d297cec9b70",
   "outputs": [],
   "execution_count": null
  },
  {
   "metadata": {},
   "cell_type": "code",
   "outputs": [],
   "execution_count": null,
   "source": "",
   "id": "a126482c4c6818b4"
  }
 ],
 "metadata": {
  "kernelspec": {
   "display_name": "Python 3",
   "language": "python",
   "name": "python3"
  },
  "language_info": {
   "codemirror_mode": {
    "name": "ipython",
    "version": 2
   },
   "file_extension": ".py",
   "mimetype": "text/x-python",
   "name": "python",
   "nbconvert_exporter": "python",
   "pygments_lexer": "ipython2",
   "version": "2.7.6"
  }
 },
 "nbformat": 4,
 "nbformat_minor": 5
}
